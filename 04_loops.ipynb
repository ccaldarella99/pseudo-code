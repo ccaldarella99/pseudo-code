{
 "cells": [
  {
   "cell_type": "markdown",
   "id": "plain-leadership",
   "metadata": {},
   "source": [
    "# Loops"
   ]
  },
  {
   "cell_type": "markdown",
   "id": "german-pendant",
   "metadata": {},
   "source": [
    "Say that you want to print the numbers one through four. Easy!\n",
    "\n",
    "```\n",
    "  Print 1\n",
    "  Print 2\n",
    "  Print 3\n",
    "  Print 4\n",
    "```"
   ]
  },
  {
   "cell_type": "markdown",
   "id": "cellular-tyler",
   "metadata": {},
   "source": [
    "Ok, but now you want to print one through four hundred... It might be easier if we could just tell the computer to reuse the print command\n",
    "```\n",
    "  Print x, but do it 400 times\n",
    "```"
   ]
  },
  {
   "cell_type": "markdown",
   "id": "directed-drinking",
   "metadata": {},
   "source": [
    "But what is x? And is it going to print the same thing 400 times? This needs more definition, and should be broken into smaller steps\n",
    "```\n",
    "  Let's set x to equal the number 1\n",
    "  \n",
    "  Let's print x\n",
    "  Let's add one to the value of x\n",
    "  Is x larger than 400? \n",
    "  If so we should stop. \n",
    "  If not, we should print x... \n",
    "```"
   ]
  },
  {
   "cell_type": "markdown",
   "id": "private-following",
   "metadata": {},
   "source": [
    "But instead of printing here, let's go back to that previous print command!\n",
    "And that right there would be a \"while\" loop. Not the best solution, but you can better understand the process. We would need to move the steps around a little bit too.\n",
    "```\n",
    "  Let's set x to 1\n",
    "  If x is less or equal to 400, carry on.\n",
    "  Otherwise, stop. \n",
    "     Print x\n",
    "     Add one to x\n",
    "     Go back and check the value of x to see if we can stop. \n",
    "```"
   ]
  },
  {
   "cell_type": "markdown",
   "id": "prescription-bhutan",
   "metadata": {},
   "source": [
    "It might look like this (in Python):"
   ]
  },
  {
   "cell_type": "code",
   "execution_count": null,
   "id": "latter-stanley",
   "metadata": {
    "tags": []
   },
   "outputs": [],
   "source": [
    "x = 1\n",
    "while(x <= 400):\n",
    "    print(x)\n",
    "    x = x + 1"
   ]
  },
  {
   "cell_type": "markdown",
   "id": "attractive-release",
   "metadata": {},
   "source": [
    "You may notice the psedo code has an instruction to go back. This part happens \"under the hood\" when the end of the \"block\" is encountered. The end of the block is when the code is no longer indented.\n",
    "\n",
    "But with a loop that counts sequentially, we typically would want to use a \"for\" loop for this process.\n",
    "```\n",
    "  For a variable x, let's start at one\n",
    "  Let's limit x to increment up to 400\n",
    "  Let's only increment x by one.\n",
    "  And after each increment, let's print the value of x!\n",
    "```"
   ]
  },
  {
   "cell_type": "markdown",
   "id": "smart-accountability",
   "metadata": {},
   "source": [
    "This solution might look like this (in Python):"
   ]
  },
  {
   "cell_type": "code",
   "execution_count": null,
   "id": "greek-maldives",
   "metadata": {
    "tags": []
   },
   "outputs": [],
   "source": [
    "for x in range(1,400,1):\n",
    "    print(x)"
   ]
  },
  {
   "cell_type": "markdown",
   "id": "characteristic-ticket",
   "metadata": {},
   "source": [
    "This needs some explanation though. The range function starts at the first digit (1), and continues until it reaches the second digit (400). The third digit is how much to increment (by 1).\n",
    "\n",
    "But since incrementing by one is the default, we can simplify by writing (in Python):"
   ]
  },
  {
   "cell_type": "code",
   "execution_count": null,
   "id": "covered-format",
   "metadata": {},
   "outputs": [],
   "source": [
    "for x in range(1,400):\n",
    "    print(x)"
   ]
  },
  {
   "cell_type": "markdown",
   "id": "ceramic-timeline",
   "metadata": {},
   "source": [
    "But then you might run this code and realize only 1 through 399 printed. \n",
    "\n",
    "*That is because I made a mistake.*\n",
    "\n",
    "With range, the first number is inclusive and the second is not. We need to type 400+1 or 401, so range stops at the right spot. \n",
    "\n",
    "__Coding can involve a lot of trial and error, especially at first :)__\n",
    "\n",
    "This solution will look like this (in Python):"
   ]
  },
  {
   "cell_type": "code",
   "execution_count": null,
   "id": "preliminary-rider",
   "metadata": {},
   "outputs": [],
   "source": [
    "for x in range(1,401):\n",
    "    print(x)"
   ]
  },
  {
   "cell_type": "markdown",
   "id": "inappropriate-roller",
   "metadata": {},
   "source": [
    "Programming is often arduous and is always a neverending journey. The best we can do is to try helping one another on our way."
   ]
  }
 ],
 "metadata": {
  "kernelspec": {
   "display_name": "Python 3",
   "language": "python",
   "name": "python3"
  },
  "language_info": {
   "codemirror_mode": {
    "name": "ipython",
    "version": 3
   },
   "file_extension": ".py",
   "mimetype": "text/x-python",
   "name": "python",
   "nbconvert_exporter": "python",
   "pygments_lexer": "ipython3",
   "version": "3.8.5"
  }
 },
 "nbformat": 4,
 "nbformat_minor": 5
}
