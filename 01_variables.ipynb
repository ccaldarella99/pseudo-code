{
 "cells": [
  {
   "cell_type": "markdown",
   "id": "iraqi-working",
   "metadata": {},
   "source": [
    "# Variables"
   ]
  },
  {
   "cell_type": "markdown",
   "id": "heated-difference",
   "metadata": {},
   "source": [
    "(and Comments)"
   ]
  },
  {
   "cell_type": "markdown",
   "id": "fifty-aside",
   "metadata": {},
   "source": [
    "## var·i·a·ble\n",
    "/ˈverēəb(ə)l/\n",
    "<ol>\n",
    "    <li> not consistent or having a fixed pattern; liable to change. <br />\n",
    "    <em>\"the quality of hospital food is highly variable\"</em></li>\n",
    "    <br />\n",
    "    <li> able to be changed or adapted. <br />\n",
    "    <em> \"the drill has variable speed\" </em></li>\n",
    "</ol>"
   ]
  },
  {
   "cell_type": "markdown",
   "id": "guided-arctic",
   "metadata": {},
   "source": [
    "Variables in Computer Science are generally any letter(s) that you can assign values. Typically these must start with a letter, and it is good practice to do so.\n",
    "\n",
    "Usually the first letter is lowercase for... reasons that are not important at the moment.\n",
    "\n",
    "You are able to put numbers in a variable name as long as the first character is a letter."
   ]
  },
  {
   "cell_type": "markdown",
   "id": "handed-florist",
   "metadata": {},
   "source": [
    "## Comments"
   ]
  },
  {
   "cell_type": "markdown",
   "id": "operating-patch",
   "metadata": {},
   "source": [
    "We can also make *comments* when programming, so we know what the code does. These are little notes for ourselves or anyone else that may want to read our code. \n",
    "\n",
    "Comments are very important because we cannot always remember what our train of thought was while coding if we are to look back after a few months or even a few weeks after writing something."
   ]
  },
  {
   "cell_type": "markdown",
   "id": "handmade-compact",
   "metadata": {},
   "source": [
    "Most commonly in my experience, single-line comments are denoted with:\n",
    "  - __#__ (a hash-tag, also-known-as a pound-sign) - Notably used in Python and Ruby\n",
    "  - __//__ (two forward-slashes) - Notably used in Java, JavaScript, and many C Languages (C, C++, C#)\n"
   ]
  },
  {
   "cell_type": "code",
   "execution_count": 6,
   "id": "neutral-congress",
   "metadata": {},
   "outputs": [],
   "source": [
    "# This is a comment in Python"
   ]
  },
  {
   "cell_type": "markdown",
   "id": "saving-vintage",
   "metadata": {},
   "source": [
    "It is worth noting that there are an abundance of Programming Languages, and many have their own format for commenting. There are also multi-line comments, but all of this is beyond the scope atthe moment. Commenting is an important part of programming, and is usually easy to research when starting with a new language.\n",
    "\n",
    "*Further Reading: [Commenting Wikipedia Article](https://en.wikipedia.org/wiki/Comment_(computer_programming))*"
   ]
  },
  {
   "cell_type": "markdown",
   "id": "fantastic-stable",
   "metadata": {},
   "source": [
    "In this document we will be using Python's comment character, \"__#__\""
   ]
  },
  {
   "cell_type": "markdown",
   "id": "liberal-september",
   "metadata": {},
   "source": [
    "## Assigning values to variables"
   ]
  },
  {
   "cell_type": "markdown",
   "id": "lonely-hawaii",
   "metadata": {},
   "source": [
    "Variables are... well variable. They are place-holders that hold values that can change.\n",
    "\n",
    "We can define \"x\" as a variable and give it a value."
   ]
  },
  {
   "cell_type": "markdown",
   "id": "restricted-contract",
   "metadata": {},
   "source": [
    "### Integers\n",
    "For example, we can assign a number to a variable:\n",
    "```\n",
    "    Lets assign the value of 5 to x.\n",
    "```\n",
    "or notated like so:\n",
    "```\n",
    "    x = 5\n",
    "```\n",
    "We can also assign a negative number (less than zero) to a variable:\n",
    "```\n",
    "    x = -5\n",
    "```\n",
    "\n",
    "The above examples are called *integers*. If you remember from any algebra course you may or may not have taken, it is any whole (non-decimal) number.\n",
    "\n",
    "It is worth noting that the last assignment will be the value that x will have. In this case it would -5.\n",
    "\n",
    "*(More about integers can be read [here on Wikipedia](https://en.wikipedia.org/wiki/Integer))*"
   ]
  },
  {
   "cell_type": "markdown",
   "id": "technical-genesis",
   "metadata": {},
   "source": [
    "### Decimals\n",
    "\n",
    "Speaking of decimals, we can also assign numbers *with* decimals, also known as a floating point number or more simply, a \"float\". \n",
    "\n",
    "*(The \"floating point\" in the name is in reference to the actual decimal point, and its placement when using Scientific Notation. More on floats can be read [here on Wikipedia](https://en.wikipedia.org/wiki/Floating-point_arithmetic).)*\n"
   ]
  },
  {
   "cell_type": "markdown",
   "id": "planned-reflection",
   "metadata": {},
   "source": [
    "### Letters and words\n",
    "We can also assign a letter or letters and/or word(s) to a variable:\n",
    "```\n",
    "    y = 'five'\n",
    "```\n",
    "\n",
    "These are called \"strings\". Strings should generally be contained within quotes so not to confuse the words\n",
    "\n",
    "\n",
    "We can also assign a number or numbers to a string, but these cannot be used for computation (more on this in the Operations section):\n",
    "```\n",
    "    y = '5'\n",
    "```\n",
    "\n",
    "While there are some reserved words for functions, you can make just about anything else a variable name."
   ]
  },
  {
   "cell_type": "markdown",
   "id": "trying-strand",
   "metadata": {},
   "source": [
    "### True or False\n",
    "\n",
    "Variables can also be given a value of True or False, typically like so:\n",
    "```\n",
    "    z = True\n",
    "```\n",
    "or\n",
    "```\n",
    "    z = False\n",
    "```\n",
    "\n",
    "These are called Boolean values (and sometimes called Binary since they only have two possible values)."
   ]
  },
  {
   "cell_type": "markdown",
   "id": "brown-shanghai",
   "metadata": {},
   "source": [
    "## Recap on variables\n",
    "\n",
    "So in the most basic view, variables can generally be one of the following:\n",
    "  - Integer (int)\n",
    "  - Floating Point Number (float)\n",
    "  - Letters (string)\n",
    "  - True/False (bool)\n",
    "\n",
    "There are also more complex variables that can store multiple values of the types listed above.\n",
    "\n",
    "It is worth noting that there are varieties of the Integers and Floating Point Numbers that can be used for really really large numbers."
   ]
  },
  {
   "cell_type": "code",
   "execution_count": null,
   "id": "difficult-comparison",
   "metadata": {},
   "outputs": [],
   "source": []
  }
 ],
 "metadata": {
  "kernelspec": {
   "display_name": "Python 3",
   "language": "python",
   "name": "python3"
  },
  "language_info": {
   "codemirror_mode": {
    "name": "ipython",
    "version": 3
   },
   "file_extension": ".py",
   "mimetype": "text/x-python",
   "name": "python",
   "nbconvert_exporter": "python",
   "pygments_lexer": "ipython3",
   "version": "3.8.5"
  }
 },
 "nbformat": 4,
 "nbformat_minor": 5
}
