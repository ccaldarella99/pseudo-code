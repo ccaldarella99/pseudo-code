{
 "cells": [
  {
   "cell_type": "markdown",
   "id": "blank-motorcycle",
   "metadata": {},
   "source": [
    "# Input/Output"
   ]
  },
  {
   "cell_type": "markdown",
   "id": "electronic-material",
   "metadata": {},
   "source": [
    "Hello World!"
   ]
  },
  {
   "cell_type": "markdown",
   "id": "differential-breed",
   "metadata": {},
   "source": [
    "Input and Output is probably the most important part of Computer Programming. This is generally how anyone is able to interact with a computer and its software. \n",
    "\n",
    "Here we will focus on text-based input and output, but know that this is not just limited to the keyboard. \n",
    "\n",
    "Input and Output also includes the mouse, the keyboard, any type of camera and/or webcam, and so on."
   ]
  },
  {
   "cell_type": "markdown",
   "id": "handed-headset",
   "metadata": {},
   "source": [
    "## Output\n",
    "\n",
    "To denote this in pseudo-code, we will just write:\n",
    "```\n",
    "    output('Hello World')\n",
    "```\n",
    "\n",
    "Alternatively, you can write something like this to get your point across (This is acutally what Python uses):\n",
    "```\n",
    "    print('Hello World')\n",
    "``` \n",
    "\n",
    "Here it is as a Python Command:"
   ]
  },
  {
   "cell_type": "code",
   "execution_count": 1,
   "id": "latest-november",
   "metadata": {},
   "outputs": [
    {
     "name": "stdout",
     "output_type": "stream",
     "text": [
      "Hello World\n"
     ]
    }
   ],
   "source": [
    "print('Hello World')"
   ]
  },
  {
   "cell_type": "markdown",
   "id": "acoustic-tribune",
   "metadata": {},
   "source": [
    "## Input\n",
    "To denote this in pseudo-code, we will just write:\n",
    "```\n",
    "input()\n",
    "```\n",
    "This is acutally what Python uses."
   ]
  },
  {
   "cell_type": "markdown",
   "id": "derived-winning",
   "metadata": {},
   "source": [
    "We will likely want to keep the input somewhere, so we can assign the input to a variable like so:\n",
    "\n",
    "```\n",
    "    i = input()\n",
    "```\n",
    "\n",
    "Below is an example of taking user-input and displaying it with Output (the example shown is also how it is done in Python):\n"
   ]
  },
  {
   "cell_type": "code",
   "execution_count": 1,
   "id": "animal-banana",
   "metadata": {},
   "outputs": [
    {
     "name": "stdout",
     "output_type": "stream",
     "text": [
      "WHAT is your name?\n"
     ]
    },
    {
     "name": "stdin",
     "output_type": "stream",
     "text": [
      " Sir-Oinks-A-Lot\n"
     ]
    },
    {
     "name": "stdout",
     "output_type": "stream",
     "text": [
      "Hello, Sir-Oinks-A-Lot\n"
     ]
    }
   ],
   "source": [
    "print('WHAT is your name?')\n",
    "user_input = input()\n",
    "print(f'Hello, {user_input}')"
   ]
  },
  {
   "cell_type": "markdown",
   "id": "pointed-cameroon",
   "metadata": {},
   "source": [
    "It is worth noting that all inputs are generally read in as characters or \"strings\". \n",
    "\n",
    "If you ask a user for a number, you will likely need to convert it from text to a number."
   ]
  },
  {
   "cell_type": "markdown",
   "id": "simplified-prison",
   "metadata": {},
   "source": [
    "#### What is \"Hello World\"?\n",
    "\n",
    "\"Hello World\" is just what a programmer typically writes as a first or test output. (More about the history of Hello World [here from Wikipedia](https://en.wikipedia.org/wiki/%22Hello,_World!%22_program))"
   ]
  }
 ],
 "metadata": {
  "kernelspec": {
   "display_name": "Python 3",
   "language": "python",
   "name": "python3"
  },
  "language_info": {
   "codemirror_mode": {
    "name": "ipython",
    "version": 3
   },
   "file_extension": ".py",
   "mimetype": "text/x-python",
   "name": "python",
   "nbconvert_exporter": "python",
   "pygments_lexer": "ipython3",
   "version": "3.8.5"
  }
 },
 "nbformat": 4,
 "nbformat_minor": 5
}
