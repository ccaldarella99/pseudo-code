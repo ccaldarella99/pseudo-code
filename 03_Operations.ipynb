{
 "cells": [
  {
   "cell_type": "markdown",
   "id": "structured-bandwidth",
   "metadata": {},
   "source": [
    "# Operations"
   ]
  },
  {
   "cell_type": "markdown",
   "id": "protective-character",
   "metadata": {},
   "source": [
    "(The math type of operations that make computations, not the medical type that the Hasbro childrens' game references.)"
   ]
  },
  {
   "cell_type": "markdown",
   "id": "republican-bride",
   "metadata": {},
   "source": [
    "You may remember Operations from your math classes in elementary school, or more familiarly:\n",
    "  - Addition\n",
    "  - Subtraction\n",
    "  - Multiplication\n",
    "  - Division\n",
    "\n",
    "This also includes using Exponents and Parenthesis."
   ]
  },
  {
   "cell_type": "markdown",
   "id": "stone-deadline",
   "metadata": {},
   "source": [
    "Computation in programming uses the order of operations (also, from your previous math classes), which you may remember the acronym \"__*PEMDAS*__\".\n",
    "  - Parenthesis\n",
    "  - Exponents\n",
    "  - Multiplicaiton\n",
    "  - Division\n",
    "  - Addition\n",
    "  - Subtraction."
   ]
  },
  {
   "cell_type": "markdown",
   "id": "narrative-scout",
   "metadata": {},
   "source": [
    "When writing computations in code it is generally appreciated by most people if parenthesis are used. This makes it less ambiguous deciphering the intentions of the programmer and the order which they want everything to be calculated."
   ]
  },
  {
   "cell_type": "markdown",
   "id": "otherwise-mount",
   "metadata": {},
   "source": [
    "## Addition"
   ]
  },
  {
   "cell_type": "markdown",
   "id": "conscious-transport",
   "metadata": {},
   "source": [
    "We can add numbers (and numeric variables) together with the plus sign, \"+\""
   ]
  },
  {
   "cell_type": "code",
   "execution_count": 9,
   "id": "systematic-stick",
   "metadata": {},
   "outputs": [
    {
     "data": {
      "text/plain": [
       "2"
      ]
     },
     "execution_count": 9,
     "metadata": {},
     "output_type": "execute_result"
    }
   ],
   "source": [
    "1 + 1"
   ]
  },
  {
   "cell_type": "markdown",
   "id": "periodic-calendar",
   "metadata": {},
   "source": [
    "## Subtraction"
   ]
  },
  {
   "cell_type": "markdown",
   "id": "renewable-worth",
   "metadata": {},
   "source": [
    "We can add subtract (and numeric variables) from eachother with the minus sign, \"-\""
   ]
  },
  {
   "cell_type": "code",
   "execution_count": 10,
   "id": "dietary-recorder",
   "metadata": {},
   "outputs": [
    {
     "data": {
      "text/plain": [
       "3"
      ]
     },
     "execution_count": 10,
     "metadata": {},
     "output_type": "execute_result"
    }
   ],
   "source": [
    "5 - 2"
   ]
  },
  {
   "cell_type": "markdown",
   "id": "federal-brave",
   "metadata": {},
   "source": [
    "## Multiplication"
   ]
  },
  {
   "cell_type": "markdown",
   "id": "satellite-cologne",
   "metadata": {},
   "source": [
    "We can multiply numbers (and numeric variables) using the asterisk, \"*\""
   ]
  },
  {
   "cell_type": "code",
   "execution_count": 11,
   "id": "engaged-currency",
   "metadata": {},
   "outputs": [
    {
     "data": {
      "text/plain": [
       "15"
      ]
     },
     "execution_count": 11,
     "metadata": {},
     "output_type": "execute_result"
    }
   ],
   "source": [
    "5 * 3"
   ]
  },
  {
   "cell_type": "markdown",
   "id": "planned-metallic",
   "metadata": {},
   "source": [
    "## Division"
   ]
  },
  {
   "cell_type": "markdown",
   "id": "external-greene",
   "metadata": {},
   "source": [
    "We can divide numbers (and numeric variables) using the forward-slash, \"/\""
   ]
  },
  {
   "cell_type": "code",
   "execution_count": 13,
   "id": "unable-bosnia",
   "metadata": {},
   "outputs": [
    {
     "data": {
      "text/plain": [
       "5.0"
      ]
     },
     "execution_count": 13,
     "metadata": {},
     "output_type": "execute_result"
    }
   ],
   "source": [
    "25 / 5"
   ]
  },
  {
   "cell_type": "markdown",
   "id": "comic-trademark",
   "metadata": {},
   "source": [
    "## Exponents"
   ]
  },
  {
   "cell_type": "markdown",
   "id": "formal-possibility",
   "metadata": {},
   "source": [
    "We can calculate the exponent(s) of numbers (and numeric variables) using two asterisks, \"**\"\n",
    "\n",
    "Note that in some languages the carat \"^\" is used instead."
   ]
  },
  {
   "cell_type": "code",
   "execution_count": 14,
   "id": "certain-consumer",
   "metadata": {},
   "outputs": [
    {
     "data": {
      "text/plain": [
       "8"
      ]
     },
     "execution_count": 14,
     "metadata": {},
     "output_type": "execute_result"
    }
   ],
   "source": [
    "2**3"
   ]
  },
  {
   "cell_type": "markdown",
   "id": "welcome-signal",
   "metadata": {},
   "source": [
    "## Parenthesis"
   ]
  },
  {
   "cell_type": "markdown",
   "id": "consolidated-vacuum",
   "metadata": {},
   "source": [
    "We can group parts of math equations together using parenthesis \"( )\"\n",
    "###### Make sure each open parenthesis has a closing parenthesis!"
   ]
  },
  {
   "cell_type": "code",
   "execution_count": 16,
   "id": "antique-harvey",
   "metadata": {},
   "outputs": [
    {
     "data": {
      "text/plain": [
       "2.0"
      ]
     },
     "execution_count": 16,
     "metadata": {},
     "output_type": "execute_result"
    }
   ],
   "source": [
    "((2 + 4) * (2 + 1))/9"
   ]
  },
  {
   "cell_type": "markdown",
   "id": "accurate-closing",
   "metadata": {},
   "source": [
    "## Putting it all together"
   ]
  },
  {
   "cell_type": "markdown",
   "id": "returning-commander",
   "metadata": {},
   "source": [
    "Lets put it all together with a \"simple\" equation we all know and love from Geometry. The Quadratic equation:\n",
    "\n",
    "$$x = \\frac{-b\\pm\\sqrt{b^2 - 4ac}}{2a}$$"
   ]
  },
  {
   "cell_type": "markdown",
   "id": "passive-hamilton",
   "metadata": {},
   "source": [
    "#### Let's break this down into smaller, easier parts."
   ]
  },
  {
   "cell_type": "markdown",
   "id": "naughty-turner",
   "metadata": {},
   "source": [
    "First, lets define the ugly square root part, or `ugly` for short:\n",
    "\n",
    "$$ugly = \\sqrt{b^2 - 4ac}$$"
   ]
  },
  {
   "cell_type": "markdown",
   "id": "simple-employee",
   "metadata": {},
   "source": [
    "The equations can now be defined as:\n",
    "\n",
    "$$ x = \\frac{-b\\pm ugly}{2a}$$\n"
   ]
  },
  {
   "cell_type": "markdown",
   "id": "blocked-reference",
   "metadata": {},
   "source": [
    "Next, let's make the top part one equation, and the bottom another equation. \n",
    "\n",
    "In math, the top part is the \"numerator\", and the bottom part is the \"denominator\".\n",
    "\n",
    "Say we want to look at it like so:\n",
    "\n",
    "$$x = \\frac{numerator}{denominator}$$\n",
    "\n",
    "\n",
    "That would mean:\n",
    "\n",
    "$$ numerator = -b\\pm ugly$$\n",
    "\n",
    "$$ denominator = 2a$$"
   ]
  },
  {
   "cell_type": "markdown",
   "id": "presidential-supplier",
   "metadata": {},
   "source": [
    "### Now, lets make it so there are two equations\n",
    "\n",
    "But why oh why would we do that? There is a plus/minus sign that allows `x` to have two values. That's math for ya!\n",
    "\n",
    "We want to simplify this and make two different `x` variables, called `x1` and `x2`:\n",
    "  - `x1`: where we add the ugly square root part to -b\n",
    "  - `x2`: where we subtract the ugly square root part from -b\n",
    "\n",
    "$$x_1 = \\frac{-b+ugly}{2a}$$\n",
    "\n",
    "$$x_2 = \\frac{-b-ugly}{2a}$$"
   ]
  },
  {
   "cell_type": "markdown",
   "id": "crazy-childhood",
   "metadata": {},
   "source": [
    "We can redefine `numerator` and `denominator` so that it aligns with `x1` and `x2` above:\n",
    "\n",
    "$$x_1 = \\frac{numerator_1}{denominator_1}$$\n",
    "\n",
    "$$x_2 = \\frac{numerator_2}{denominator_2}$$\n"
   ]
  },
  {
   "cell_type": "markdown",
   "id": "opening-minutes",
   "metadata": {},
   "source": [
    "Lets review what the numerators looks like after we break `x` into `x1` and `x2`. This would mean:\n",
    "\n",
    "$$ numerator_1 = -b+ugly$$\n",
    "\n",
    "$$ numerator_2 = -b-ugly$$\n"
   ]
  },
  {
   "cell_type": "markdown",
   "id": "amino-spine",
   "metadata": {},
   "source": [
    "Let's do the same to the denominiator:\n",
    "\n",
    "$$ denominator_1 = 2a$$\n",
    "$$ denominator_2 = 2a$$"
   ]
  },
  {
   "cell_type": "markdown",
   "id": "compatible-italy",
   "metadata": {},
   "source": [
    "Notice that the denominators are exactly the same - separating these into two parts may not be necessary, but we will keep it this way for clarity."
   ]
  },
  {
   "cell_type": "markdown",
   "id": "sought-mount",
   "metadata": {},
   "source": [
    "If we want to put this onto code, it might look like this:\n"
   ]
  },
  {
   "cell_type": "code",
   "execution_count": 17,
   "id": "defined-community",
   "metadata": {},
   "outputs": [
    {
     "name": "stdout",
     "output_type": "stream",
     "text": [
      "(0.7862996478468913, -2.119632981180225)\n"
     ]
    }
   ],
   "source": [
    "def sqrt(r): return r**0.5 # Quick function/calculation of Square Root\n",
    "\n",
    "# Define variables a, b, and c\n",
    "a = 3\n",
    "b = 4\n",
    "c = 5\n",
    "\n",
    "# defining the ugly Square Root part\n",
    "ugly = sqrt((b**2) + (4 * a * c))\n",
    "\n",
    "# Defining the Numerators and Denominators\n",
    "numerator1 = (-1 * b) + ugly\n",
    "numerator2 = (-1 * b) - ugly\n",
    "denominator1 = 2 * a\n",
    "denominator2 = 2 * a\n",
    "\n",
    "# Calculationg for x\n",
    "x1 = numerator1 / denominator1\n",
    "x2 = numerator2 / denominator2\n",
    "\n",
    "# Show the answer\n",
    "print((x1, x2))"
   ]
  },
  {
   "cell_type": "markdown",
   "id": "yellow-advertising",
   "metadata": {},
   "source": [
    "Notice how we took a more complex looking part out and substiututed it with a variable!\n",
    "\n",
    "You aren't removing it; you are just defining it somewhere else, and putting it's name in as a place-holder.\n",
    "\n",
    "This is handy to make your code more readable and understandable, not just for you, but for anyone else that might look at it."
   ]
  }
 ],
 "metadata": {
  "kernelspec": {
   "display_name": "Python 3",
   "language": "python",
   "name": "python3"
  },
  "language_info": {
   "codemirror_mode": {
    "name": "ipython",
    "version": 3
   },
   "file_extension": ".py",
   "mimetype": "text/x-python",
   "name": "python",
   "nbconvert_exporter": "python",
   "pygments_lexer": "ipython3",
   "version": "3.8.5"
  }
 },
 "nbformat": 4,
 "nbformat_minor": 5
}
