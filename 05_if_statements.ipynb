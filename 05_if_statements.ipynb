{
 "cells": [
  {
   "cell_type": "markdown",
   "id": "sized-disorder",
   "metadata": {},
   "source": [
    "# If Statements\n",
    "### (and else-if, else, and so on)"
   ]
  },
  {
   "cell_type": "markdown",
   "id": "trying-fourth",
   "metadata": {},
   "source": [
    "Perhaps you get some user input, of whether or not someone likes dogs. (Crazy, right? Everyone loves dogs!)\n",
    "\n",
    "In this example, lets assume `person_likes_dogs` is True.\n",
    "\n",
    "```\n",
    "    person_likes_dogs is True\n",
    "    \n",
    "    'Hello, I like dogs too!' if person_likes_dogs\n",
    "```"
   ]
  },
  {
   "cell_type": "markdown",
   "id": "horizontal-bibliography",
   "metadata": {},
   "source": [
    "Now what if we encounter someone who >gasp< does *not* like dogs?\n",
    "\n",
    "```\n",
    "    person_likes_dogs is True\n",
    "    \n",
    "    'Hello, I like dogs too!' if person_likes_dogs\n",
    "    'I hear you do not like dogs. I cannot relate.' if not person_likes_dogs\n",
    "```"
   ]
  },
  {
   "cell_type": "markdown",
   "id": "organized-duncan",
   "metadata": {},
   "source": [
    "### (*Under Construction*)"
   ]
  },
  {
   "cell_type": "code",
   "execution_count": null,
   "id": "olive-filing",
   "metadata": {},
   "outputs": [],
   "source": []
  }
 ],
 "metadata": {
  "kernelspec": {
   "display_name": "Python 3",
   "language": "python",
   "name": "python3"
  },
  "language_info": {
   "codemirror_mode": {
    "name": "ipython",
    "version": 3
   },
   "file_extension": ".py",
   "mimetype": "text/x-python",
   "name": "python",
   "nbconvert_exporter": "python",
   "pygments_lexer": "ipython3",
   "version": "3.8.5"
  }
 },
 "nbformat": 4,
 "nbformat_minor": 5
}
